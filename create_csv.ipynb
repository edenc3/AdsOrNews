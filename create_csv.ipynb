{
 "cells": [
  {
   "cell_type": "code",
   "execution_count": 1,
   "id": "1133c6e2",
   "metadata": {},
   "outputs": [
    {
     "name": "stderr",
     "output_type": "stream",
     "text": [
      "100%|████████████████████████████████████████████████████████████████████████████████████| 8/8 [01:44<00:00, 13.08s/it]\n"
     ]
    }
   ],
   "source": [
    "import os\n",
    "import glob\n",
    "import codecs\n",
    "from bs4 import BeautifulSoup\n",
    "from collections import Counter\n",
    "from pprint import pprint as pp\n",
    "from HeBERT.src.HebEMO import *\n",
    "from newspaper.nlp import keywords, load_stopwords\n",
    "\n",
    "hebemo = HebEMO()\n",
    "load_stopwords('he')\n",
    "\n",
    "def get_all_htmls(directory_path):\n",
    "    return glob.iglob(os.path.join(directory_path,'*.html'))"
   ]
  },
  {
   "cell_type": "code",
   "execution_count": 2,
   "id": "6a848a89",
   "metadata": {},
   "outputs": [],
   "source": [
    "def get_is_sponsered(document):\n",
    "    li = document.find(\"li\", attrs={\"class\": \"custom-txt\"})\n",
    "    if li is None:\n",
    "        return False\n",
    "    return li.find(\"a\",target=\"_blank\") is not None"
   ]
  },
  {
   "cell_type": "code",
   "execution_count": 3,
   "id": "8fce96cf",
   "metadata": {},
   "outputs": [],
   "source": [
    "def get_title(document):\n",
    "    return document.title.text"
   ]
  },
  {
   "cell_type": "code",
   "execution_count": 4,
   "id": "44682f6b",
   "metadata": {},
   "outputs": [],
   "source": [
    "def get_bold_count(document):\n",
    "    return len(document.find_all(\"strong\"))"
   ]
  },
  {
   "cell_type": "code",
   "execution_count": 5,
   "id": "d1ecbf35",
   "metadata": {},
   "outputs": [],
   "source": [
    "def get_is_advertisement(document):\n",
    "    return document.find(\"span\", content=\"כתבה פרסומית\") is not None"
   ]
  },
  {
   "cell_type": "code",
   "execution_count": 6,
   "id": "d5b48951",
   "metadata": {},
   "outputs": [],
   "source": [
    "def get_links_count(document):\n",
    "    return len(document.find_all(\"a\", href=True))"
   ]
  },
  {
   "cell_type": "code",
   "execution_count": 7,
   "id": "0bbab6e1",
   "metadata": {},
   "outputs": [],
   "source": [
    "def get_input_count(document):\n",
    "    return len(document.find_all(\"input\"))"
   ]
  },
  {
   "cell_type": "code",
   "execution_count": 8,
   "id": "3498c5b9",
   "metadata": {},
   "outputs": [],
   "source": [
    "def get_textarea_count(document):\n",
    "    return len(document.find_all(\"textarea\"))"
   ]
  },
  {
   "cell_type": "code",
   "execution_count": 9,
   "id": "7c36e7ba",
   "metadata": {},
   "outputs": [],
   "source": [
    "def get_media_count(document):\n",
    "    images = document.find_all(\"img\")\n",
    "    all_media = document.find_all(\"source\")\n",
    "    return len(images) + len(all_media)"
   ]
  },
  {
   "cell_type": "code",
   "execution_count": 10,
   "id": "39764026-8bed-4609-9c7c-e52b1e8fe68c",
   "metadata": {},
   "outputs": [],
   "source": [
    "def get_emotion_from_string(string):\n",
    "    df = hebemo.hebemo(text=string)\n",
    "    return set(col for col in df.columns if df[col][0] == 1)"
   ]
  },
  {
   "cell_type": "code",
   "execution_count": 11,
   "id": "f3ed8f8a",
   "metadata": {},
   "outputs": [],
   "source": [
    "def get_title_emotion(document):\n",
    "    return get_emotion_from_string(get_title(document))"
   ]
  },
  {
   "cell_type": "code",
   "execution_count": 12,
   "id": "dee88314",
   "metadata": {},
   "outputs": [],
   "source": [
    "def get_text(document):\n",
    "    all_text = document.find(\"section\", itemprop=\"articleBody\").find_all(\"p\")\n",
    "    return \" \".join(i.text for i in all_text)"
   ]
  },
  {
   "cell_type": "code",
   "execution_count": 13,
   "id": "7f443492-2d38-4c9d-a9ee-df6d67429887",
   "metadata": {},
   "outputs": [],
   "source": [
    "def get_text_emotion(document):\n",
    "    # HebEmo only supports up to 512 words\n",
    "    return get_emotion_from_string(get_text(document)[:512])"
   ]
  },
  {
   "cell_type": "code",
   "execution_count": 14,
   "id": "b43490ea-5440-40ec-97b0-4fa08927150e",
   "metadata": {},
   "outputs": [],
   "source": [
    "def get_keywords_from_string(string):\n",
    "    return set(keywords(string).keys())"
   ]
  },
  {
   "cell_type": "code",
   "execution_count": 15,
   "id": "ee2ab589-3feb-4553-b545-e277924813ba",
   "metadata": {},
   "outputs": [],
   "source": [
    "def get_title_keywords(document):\n",
    "    return get_keywords_from_string(get_title(document))"
   ]
  },
  {
   "cell_type": "code",
   "execution_count": 16,
   "id": "af308021-4873-43a0-ae10-ebc8bda44971",
   "metadata": {},
   "outputs": [],
   "source": [
    "def get_text_keywords(document):\n",
    "    return get_keywords_from_string(get_text(document))"
   ]
  },
  {
   "cell_type": "code",
   "execution_count": 17,
   "id": "e233d56d-29db-4745-b2b2-bbf2f39e1a22",
   "metadata": {},
   "outputs": [],
   "source": [
    "# Copied from https://stackoverflow.com/a/48653758\n",
    "def getLCS(s1, s2):\n",
    "    \"\"\" Find the longest common subsequence between two sequences \"\"\"\n",
    "    matrix = [[\"\" for x in range(len(s2))] for x in range(len(s1))]\n",
    "    for i in range(len(s1)):\n",
    "        for j in range(len(s2)):\n",
    "            if s1[i] == s2[j]:\n",
    "                if i == 0 or j == 0:\n",
    "                    matrix[i][j] = s1[i]\n",
    "                else:\n",
    "                    matrix[i][j] = matrix[i-1][j-1] + s1[i]\n",
    "            else:\n",
    "                matrix[i][j] = max(matrix[i-1][j], matrix[i][j-1], key=len)\n",
    "\n",
    "    cs = matrix[-1][-1]\n",
    "\n",
    "    return len(cs), cs\n",
    "\n",
    "def string_length_min_max(first, second):\n",
    "    if len(first) == len(second):\n",
    "        return first, second\n",
    "    return min(first, second, key=len), max(first, second, key=len)\n",
    "\n",
    "def compare_words(first, second):\n",
    "    a, b = string_length_min_max(first, second)\n",
    "    \n",
    "    # If the length of the smaller word is less then 4, don't continue (because this function is very heuristic-based)\n",
    "    if len(a) < 4:\n",
    "        return False\n",
    "    \n",
    "    # If the shorter word is included in the longer, we consider them to be the same\n",
    "    if a in b:\n",
    "        return True\n",
    "    \n",
    "    # Use the common longest subsequence between the two words to decide if they're similar enough\n",
    "    lcs_len, lcs = getLCS(a, b)\n",
    "    if len(a) <= lcs_len <= len(b):\n",
    "        return True\n",
    "    \n",
    "    return False\n",
    "\n",
    "def get_mutual_title_text_keywords(document):\n",
    "    mutual_keywords = set()\n",
    "    # Add all the words that are similar enough (decided in `compare_words`) - this will also get exact matches\n",
    "    for title_word in get_title_keywords(document):\n",
    "        for text_word in get_text_keywords(document):\n",
    "            if compare_words(title_word, text_word):\n",
    "                mutual_keywords.add(title_word)\n",
    "    return mutual_keywords"
   ]
  },
  {
   "cell_type": "code",
   "execution_count": 18,
   "id": "34eba702",
   "metadata": {},
   "outputs": [],
   "source": [
    "def get_emotions_for_csv(emotions):\n",
    "    emotion_names = [\"anticipation\", \"joy\", \"trust\", \"fear\", \"surprise\", \"anger\", \"sadness\", \"disgust\"]\n",
    "    return \",\".join(str(emotion_name in emotions) for emotion_name in emotion_names)\n",
    "\n",
    "def parse(link, document):\n",
    "    return f'{link},{get_is_sponsered(document)},{get_bold_count(document)},{get_is_advertisement(document)},{get_links_count(document)},{get_input_count(document)},{get_textarea_count(document)},{get_media_count(document)},{len(get_title(document))},{len(get_text(document))},{len(get_mutual_title_text_keywords(document))},{get_emotions_for_csv(get_title_emotion(document))},{get_emotions_for_csv(get_text_emotion(document))}\\r\\n'\n",
    "\n",
    "def to_csv(output_path):\n",
    "    header = 'file_name,is_sponsered,bold_count,is_advertisement,links_count,input_count,textarea_count,media_count,title_length,text_length,mutual_title_text_keywords_count,title_anticipation,title_joy,title_trust,title_fear,title_surprise,title_anger,title_sadness,title_disgust,text_anticipation,text_joy,text_trust,text_fear,text_surprise,text_anger,text_sadness,text_disgust\\r\\n'\n",
    "    \n",
    "    with codecs.open(output_path, 'w', 'utf-8') as of:\n",
    "        # Write header\n",
    "        of.write(header)\n",
    "\n",
    "        # Write data for every article\n",
    "        for link in get_all_htmls(directory_path):\n",
    "            try:\n",
    "                with codecs.open(link, 'r', 'utf-8') as f:\n",
    "                    document = BeautifulSoup(f)\n",
    "                    print(f'Writing data for link: {link}, title: {get_title(document)}')\n",
    "                    of.write(parse(link, document))\n",
    "                    of.flush()\n",
    "            except Exception as e:\n",
    "                print(f'Skipping {link} due to \"{e}\"')"
   ]
  },
  {
   "cell_type": "code",
   "execution_count": null,
   "id": "f3982084",
   "metadata": {
    "scrolled": true
   },
   "outputs": [],
   "source": [
    "directory_path=r'Articles'\n",
    "to_csv('data.csv')\n",
    "print(\"finished\")"
   ]
  },
  {
   "cell_type": "code",
   "execution_count": null,
   "id": "8874e996-e6d6-47f0-b94d-18fe3dcfe996",
   "metadata": {},
   "outputs": [],
   "source": []
  }
 ],
 "metadata": {
  "kernelspec": {
   "display_name": "Python 3 (ipykernel)",
   "language": "python",
   "name": "python3"
  },
  "language_info": {
   "codemirror_mode": {
    "name": "ipython",
    "version": 3
   },
   "file_extension": ".py",
   "mimetype": "text/x-python",
   "name": "python",
   "nbconvert_exporter": "python",
   "pygments_lexer": "ipython3",
   "version": "3.8.6"
  }
 },
 "nbformat": 4,
 "nbformat_minor": 5
}
